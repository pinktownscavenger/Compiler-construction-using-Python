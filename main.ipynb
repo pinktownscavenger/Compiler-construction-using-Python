{
 "cells": [
  {
   "cell_type": "markdown",
   "metadata": {},
   "source": [
    "# Milestone 1 & 2"
   ]
  },
  {
   "cell_type": "code",
   "execution_count": 8,
   "metadata": {},
   "outputs": [
    {
     "name": "stdout",
     "output_type": "stream",
     "text": [
      "Error: Closing bracket ')' without corresponding open bracket.\n"
     ]
    }
   ],
   "source": [
    "import re\n",
    "\n",
    "class Tokenizer:\n",
    "    def __init__(self):\n",
    "        self.operators = set(['+', '-', '*', '/'])\n",
    "        self.functions = set(['sin', 'cos', 'tan', 'sqrt'])\n",
    "        self.variables = set(['x', 'y', 'z'])\n",
    "        self.tokens = []\n",
    "\n",
    "    def tokenize(self, expression):\n",
    "        # Clear previous tokens\n",
    "        self.tokens.clear()\n",
    "        # Remove whitespaces and comments\n",
    "        expression = re.sub(r'#.*$', '', expression)  # Remove comments\n",
    "        expression = re.sub(r'\\s+', '', expression)  # Remove whitespaces\n",
    "        # Initialize variables for tracking index and token\n",
    "        index = 0\n",
    "        open_brackets = 0\n",
    "        while index < len(expression):\n",
    "            # Check for operators\n",
    "            if expression[index] in self.operators:\n",
    "                self.tokens.append(expression[index])\n",
    "                index += 1\n",
    "            # Check for numbers\n",
    "            elif expression[index].isdigit():\n",
    "                num_str = ''\n",
    "                while index < len(expression) and expression[index].isdigit():\n",
    "                    num_str += expression[index]\n",
    "                    index += 1\n",
    "                self.tokens.append(int(num_str))\n",
    "            # Check for variables\n",
    "            elif expression[index] in self.variables:\n",
    "                self.tokens.append(expression[index])\n",
    "                index += 1\n",
    "            # Check for functions\n",
    "            elif any(expression[index:].startswith(func) for func in self.functions):\n",
    "                for func in self.functions:\n",
    "                    if expression[index:].startswith(func):\n",
    "                        self.tokens.append(func)\n",
    "                        index += len(func)\n",
    "                        break\n",
    "            # Check for opening parentheses\n",
    "            elif expression[index] == '(':\n",
    "                open_brackets += 1\n",
    "                self.tokens.append(expression[index])\n",
    "                index += 1\n",
    "            # Check for closing parentheses\n",
    "            elif expression[index] == ')':\n",
    "                # Check if there's a corresponding open bracket\n",
    "                if open_brackets > 0:\n",
    "                    open_brackets -= 1\n",
    "                    self.tokens.append(expression[index])\n",
    "                    index += 1\n",
    "                else:\n",
    "                    print(\"Error: Closing bracket ')' without corresponding open bracket.\")\n",
    "                    return None\n",
    "            # Handle invalid characters\n",
    "            else:\n",
    "                print(\"Error: Invalid character '{}'\".format(expression[index]))\n",
    "                return None\n",
    "        # Check for any remaining open brackets\n",
    "        if open_brackets > 0:\n",
    "            print(\"Error: {} open bracket(s) '(' without corresponding closing bracket ')'.\".format(open_brackets))\n",
    "            return None\n",
    "        return self.tokens\n",
    "\n",
    "# Test the Tokenizer\n",
    "def test_tokenizer():\n",
    "    tokenizer = Tokenizer()\n",
    "    expression = input(\"Enter an arithmetic expression: \")\n",
    "    tokens = tokenizer.tokenize(expression)\n",
    "    if tokens is not None:\n",
    "        print(\"Tokens:\", tokens)\n",
    "\n",
    "test_tokenizer()\n"
   ]
  }
 ],
 "metadata": {
  "kernelspec": {
   "display_name": "base",
   "language": "python",
   "name": "python3"
  },
  "language_info": {
   "codemirror_mode": {
    "name": "ipython",
    "version": 3
   },
   "file_extension": ".py",
   "mimetype": "text/x-python",
   "name": "python",
   "nbconvert_exporter": "python",
   "pygments_lexer": "ipython3",
   "version": "3.10.9"
  }
 },
 "nbformat": 4,
 "nbformat_minor": 2
}
